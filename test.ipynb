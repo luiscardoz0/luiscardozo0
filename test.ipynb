{
 "cells": [
  {
   "cell_type": "code",
   "execution_count": 7,
   "metadata": {},
   "outputs": [
    {
     "name": "stdout",
     "output_type": "stream",
     "text": [
      "Suma: [5 7 9]\n",
      "Resta: [-3 -3 -3]\n",
      "Producto Punto: 32\n",
      "Producto Cruz: [-3  6 -3]\n",
      "División: [0.25 0.4  0.5 ]\n"
     ]
    }
   ],
   "source": [
    "#Realice un programa que sume, reste, multiplique (producto punto y producto cruz) y divida dos\n",
    "#vectores previamente inicializados.\n",
    "import numpy as np\n",
    "\n",
    "# Función para realizar la suma de dos vectores\n",
    "def suma_vectores(v1, v2):\n",
    "    return v1 + v2\n",
    "\n",
    "# Función para realizar la resta de dos vectores\n",
    "def resta_vectores(v1, v2):\n",
    "    return v1 - v2\n",
    "\n",
    "# Función para realizar el producto punto entre dos vectores\n",
    "def producto_punto(v1, v2):\n",
    "    return np.dot(v1, v2)\n",
    "\n",
    "# Función para realizar el producto cruz entre dos vectores\n",
    "def producto_cruz(v1, v2):\n",
    "    return np.cross(v1, v2)\n",
    "\n",
    "# Función para realizar la división de dos vectores\n",
    "def division_vectores(v1, v2):\n",
    "    # Suponiendo que quieres dividir elemento por elemento\n",
    "    return v1 / v2\n",
    "\n",
    "# Vectores de ejemplo\n",
    "vector1 = np.array([1, 2, 3])\n",
    "vector2 = np.array([4, 5, 6])\n",
    "\n",
    "# Suma de vectores\n",
    "print(\"Suma:\", suma_vectores(vector1, vector2))\n",
    "\n",
    "# Resta de vectores\n",
    "print(\"Resta:\", resta_vectores(vector1, vector2))\n",
    "\n",
    "# Producto punto\n",
    "print(\"Producto Punto:\", producto_punto(vector1, vector2))\n",
    "\n",
    "# Producto cruz\n",
    "print(\"Producto Cruz:\", producto_cruz(vector1, vector2))\n",
    "\n",
    "# División de vectores\n",
    "print(\"División:\", division_vectores(vector1, vector2))"
   ]
  },
  {
   "cell_type": "code",
   "execution_count": 2,
   "metadata": {},
   "outputs": [
    {
     "name": "stdout",
     "output_type": "stream",
     "text": [
      "suma de matrices: \n",
      " [[5. 8.]\n",
      " [7. 7.]\n",
      " [6. 8.]] \n",
      " resta de matrices: \n",
      " [[-3. -4.]\n",
      " [-1.  1.]\n",
      " [ 4.  4.]] \n",
      " multiplicacion de matrices: \n",
      " [[ 4. 12.]\n",
      " [12. 12.]\n",
      " [ 5. 12.]] \n",
      " divicion de matrices:\n",
      " [[ 4. 12.]\n",
      " [12. 12.]\n",
      " [ 5. 12.]]\n"
     ]
    }
   ],
   "source": [
    "#Realice un programa que sume, reste, multiplique (producto punto y producto cruz) y divida dos\n",
    "#matrices previamente inicializadas.\n",
    "import numpy as np\n",
    "\n",
    "matrizA = np.array([[1,2],[3,4],[5,6]],float)\n",
    "matrizB = np.array([[4,6],[4,3],[1,2]],float)\n",
    "suma=matrizA + matrizB\n",
    "resta=matrizA-matrizB\n",
    "multiplicacion=matrizA*matrizB\n",
    "divicion=matrizA*matrizB\n",
    "print(f\"suma de matrices: \\n {suma} \\n resta de matrices: \\n {resta} \\n multiplicacion de matrices: \\n {multiplicacion} \\n divicion de matrices:\\n {divicion}\")"
   ]
  },
  {
   "cell_type": "code",
   "execution_count": 5,
   "metadata": {},
   "outputs": [
    {
     "name": "stdout",
     "output_type": "stream",
     "text": [
      "\n",
      "Coordenadas cilíndricas:\n",
      "Rho: 6.4031242374328485\n",
      "Phi (ángulo en radianes): 0.6747409422235526\n",
      "Z: 3.0\n",
      "\n",
      "Coordenadas esféricas:\n",
      "Rho: 7.0710678118654755\n",
      "Phi (ángulo en radianes): 0.6747409422235526\n",
      "Theta (ángulo en radianes): 1.1326472962107264\n"
     ]
    }
   ],
   "source": [
    "\n",
    "#Realice un programa que convierta coordenadas rectangulares a cilíndricas y esféricas, para lo cual\n",
    "#deben consultar sobre el uso de funciones trigonométricas en Python. \n",
    "import math\n",
    "\n",
    "def rectangular_a_cilindricas(x, y, z):\n",
    "    rho = math.sqrt(x**2 + y**2)  # Distancia radial desde el origen al punto en el plano xy\n",
    "    phi = math.atan2(y, x)         # Ángulo en el plano xy (en radianes)\n",
    "    z_cilindrica = z                # La coordenada z en el sistema cilíndrico es la misma que en el rectangular\n",
    "    return rho, phi, z_cilindrica\n",
    "\n",
    "def rectangular_a_esfericas(x, y, z):\n",
    "    rho = math.sqrt(x**2 + y**2 + z**2)   # Distancia radial desde el origen al punto\n",
    "    phi = math.atan2(y, x)                 # Ángulo en el plano xy (en radianes)\n",
    "    theta = math.acos(z / rho)             # Ángulo con el eje z (en radianes)\n",
    "    return rho, phi, theta\n",
    "\n",
    "# Función principal\n",
    "def main():\n",
    "    # Pedir al usuario las coordenadas rectangulares\n",
    "    x = float(input(\"Ingrese la coordenada x: \"))\n",
    "    y = float(input(\"Ingrese la coordenada y: \"))\n",
    "    z = float(input(\"Ingrese la coordenada z: \"))\n",
    "\n",
    "    # Convertir a coordenadas cilíndricas\n",
    "    rho_cil, phi_cil, z_cil = rectangular_a_cilindricas(x, y, z)\n",
    "    print(\"\\nCoordenadas cilíndricas:\")\n",
    "    print(\"Rho:\", rho_cil)\n",
    "    print(\"Phi (ángulo en radianes):\", phi_cil)\n",
    "    print(\"Z:\", z_cil)\n",
    "\n",
    "    # Convertir a coordenadas esféricas\n",
    "    rho_esf, phi_esf, theta_esf = rectangular_a_esfericas(x, y, z)\n",
    "    print(\"\\nCoordenadas esféricas:\")\n",
    "    print(\"Rho:\", rho_esf)\n",
    "    print(\"Phi (ángulo en radianes):\", phi_esf)\n",
    "    print(\"Theta (ángulo en radianes):\", theta_esf)\n",
    "\n",
    "if __name__ == \"__main__\":\n",
    "    main()"
   ]
  },
  {
   "cell_type": "code",
   "execution_count": 6,
   "metadata": {},
   "outputs": [
    {
     "name": "stdout",
     "output_type": "stream",
     "text": [
      "La resistencia de la RTD a 25.0 grados Celsius es 109.73465625 ohmios.\n"
     ]
    }
   ],
   "source": [
    "#Realice un programa para el cálculo de la resistencia de una RTD de platino (PT100) en función de\n",
    "#la temperatura.\n",
    "def calcular_resistencia(temp):\n",
    "    # Coeficientes de la ecuación de Callendar-Van Dusen\n",
    "    a = 3.9083e-3\n",
    "    b = -5.775e-7\n",
    "    # Temperatura de referencia\n",
    "    t0 = 100.0\n",
    "    # Resistencia a temperatura de referencia\n",
    "    r0 = 100.0\n",
    "\n",
    "    # Cálculo de la resistencia\n",
    "    r = r0 * (1 + a * temp + b * temp**2)\n",
    "\n",
    "    return r\n",
    "\n",
    "# Temperatura en grados Celsius\n",
    "temperatura = 25.0\n",
    "\n",
    "# Calcular resistencia\n",
    "resistencia = calcular_resistencia(temperatura)\n",
    "\n",
    "# Imprimir resultado\n",
    "print(f\"La resistencia de la RTD a {temperatura} grados Celsius es {resistencia} ohmios.\")"
   ]
  },
  {
   "cell_type": "code",
   "execution_count": 8,
   "metadata": {},
   "outputs": [
    {
     "name": "stdout",
     "output_type": "stream",
     "text": [
      "Angulo de rotación 60\n",
      "Matriz de rotación en el eje X:\n",
      "[[ 1.         0.         0.       ]\n",
      " [ 0.         0.5       -0.8660254]\n",
      " [ 0.         0.8660254  0.5      ]]\n",
      "Angulo de rotación 60\n",
      "\n",
      "Matriz de rotación en el eje Y:\n",
      "[[ 0.5        0.         0.8660254]\n",
      " [ 0.         1.         0.       ]\n",
      " [-0.8660254  0.         0.5      ]]\n",
      "Angulo de rotación 60\n",
      "\n",
      "Matriz de rotación en el eje Z:\n",
      "[[ 0.5       -0.8660254  0.       ]\n",
      " [ 0.8660254  0.5        0.       ]\n",
      " [ 0.         0.         1.       ]]\n"
     ]
    }
   ],
   "source": [
    "#5.Realice en funciones las rotaciones en X, Y y Z, donde se tenga un parámetro de entrada (ángulo)\n",
    "#y un parámetro de salida (matriz).\n",
    "import numpy as np\n",
    "\n",
    "# Función para la rotación en el eje X\n",
    "def rotacion_x(angulo):\n",
    "    radianes = np.radians(angulo)\n",
    "    matriz_rotacion_x = np.array([\n",
    "        [1, 0, 0],\n",
    "        [0, np.cos(radianes), -np.sin(radianes)],\n",
    "        [0, np.sin(radianes), np.cos(radianes)]\n",
    "    ])\n",
    "    return matriz_rotacion_x\n",
    "\n",
    "# Función para la rotación en el eje Y\n",
    "def rotacion_y(angulo):\n",
    "    radianes = np.radians(angulo)\n",
    "    matriz_rotacion_y = np.array([\n",
    "        [np.cos(radianes), 0, np.sin(radianes)],\n",
    "        [0, 1, 0],\n",
    "        [-np.sin(radianes), 0, np.cos(radianes)]\n",
    "    ])\n",
    "    return matriz_rotacion_y\n",
    "\n",
    "# Función para la rotación en el eje Z\n",
    "def rotacion_z(angulo):\n",
    "    radianes = np.radians(angulo)\n",
    "    matriz_rotacion_z = np.array([\n",
    "        [np.cos(radianes), -np.sin(radianes), 0],\n",
    "        [np.sin(radianes), np.cos(radianes), 0],\n",
    "        [0, 0, 1]\n",
    "    ])\n",
    "    return matriz_rotacion_z\n",
    "\n",
    "# Ejemplo de uso\n",
    "angulo = 60  # Ángulo en grados\n",
    "\n",
    "\n",
    "# Rotación en el eje X\n",
    "print(\"Angulo de rotación\", angulo)\n",
    "matriz_rotacion_x = rotacion_x(angulo)\n",
    "print(\"Matriz de rotación en el eje X:\")\n",
    "print(matriz_rotacion_x)\n",
    "\n",
    "# Rotación en el eje Y\n",
    "print(\"Angulo de rotación\", angulo)\n",
    "matriz_rotacion_y = rotacion_y(angulo)\n",
    "print(\"\\nMatriz de rotación en el eje Y:\")\n",
    "print(matriz_rotacion_y)\n",
    "\n",
    "# Rotación en el eje Z\n",
    "print(\"Angulo de rotación\", angulo)\n",
    "matriz_rotacion_z = rotacion_z(angulo)\n",
    "print(\"\\nMatriz de rotación en el eje Z:\")\n",
    "print(matriz_rotacion_z)"
   ]
  },
  {
   "cell_type": "code",
   "execution_count": 10,
   "metadata": {},
   "outputs": [
    {
     "name": "stdout",
     "output_type": "stream",
     "text": [
      "Fuerza de avance: 15707.963267948966 N\n",
      "Fuerza de retroceso: 0.0 N\n"
     ]
    }
   ],
   "source": [
    "#Realice un programa que calcule la fuerza de avance y retroceso de un cilindro neumático de doble\n",
    "#efecto. Debe establecer previamente los valores de presión, así como las dimensiones físicas del\n",
    "#cilindro para realizar el cálculo.\n",
    "import math\n",
    "\n",
    "def calcular_fuerza_avance(presion, radio_piston):\n",
    "    area_avance = math.pi * (radio_piston ** 2)\n",
    "    return presion * area_avance\n",
    "\n",
    "def calcular_fuerza_retroceso(presion, radio_piston, diametro_varilla):\n",
    "    radio_varilla = diametro_varilla / 2\n",
    "    area_retroceso = math.pi * (radio_piston * 2) - math.pi * (radio_varilla * 2)\n",
    "    return presion * area_retroceso\n",
    "\n",
    "# Entradas del usuario\n",
    "presion = float(input(\"Ingrese la presión del aire (en Pa): \"))\n",
    "radio_piston = float(input(\"Ingrese el radio del pistón (en metros): \"))\n",
    "diametro_varilla = float(input(\"Ingrese el diámetro de la varilla (en metros): \"))\n",
    "\n",
    "# Cálculo de fuerzas\n",
    "fuerza_avance = calcular_fuerza_avance(presion, radio_piston)\n",
    "fuerza_retroceso = calcular_fuerza_retroceso(presion, radio_piston, diametro_varilla)\n",
    "\n",
    "# Mostrar resultados\n",
    "print(f\"Fuerza de avance: {fuerza_avance} N\")\n",
    "print(f\"Fuerza de retroceso: {fuerza_retroceso} N\")\n"
   ]
  },
  {
   "cell_type": "code",
   "execution_count": 12,
   "metadata": {},
   "outputs": [
    {
     "name": "stdout",
     "output_type": "stream",
     "text": [
      "La potencia consumida por el circuito es: 480.0 vatios.\n"
     ]
    }
   ],
   "source": [
    "#7.Realice un programa que calcule la potencia que consume un circuito ingresando por teclado el\n",
    "#valor de corriente y voltaje.\n",
    "# Solicitar al usuario que ingrese el voltaje y la corriente\n",
    "voltaje = float(input(\"Ingrese el valor del voltaje (en voltios): \"))\n",
    "corriente = float(input(\"Ingrese el valor de la corriente (en amperios): \"))\n",
    "\n",
    "# Calcular la potencia y mostrar el resultado\n",
    "print(\"La potencia consumida por el circuito es:\", voltaje * corriente, \"vatios.\")"
   ]
  },
  {
   "cell_type": "code",
   "execution_count": 13,
   "metadata": {},
   "outputs": [
    {
     "name": "stdout",
     "output_type": "stream",
     "text": [
      "20 números aleatorios en el rango [10.0, 10.0]:\n",
      "[10.0, 10.0, 10.0, 10.0, 10.0, 10.0, 10.0, 10.0, 10.0, 10.0, 10.0, 10.0, 10.0, 10.0, 10.0, 10.0, 10.0, 10.0, 10.0, 10.0]\n"
     ]
    }
   ],
   "source": [
    "# 8.Realice un programa que calcule X números aleatorios en un rango determinado por el usuario.\n",
    "import random\n",
    "\n",
    "def generar_numeros_aleatorios(cantidad, rango_min, rango_max):\n",
    "    numeros_aleatorios = []\n",
    "    for _ in range(cantidad):\n",
    "        numero_aleatorio = random.uniform(rango_min, rango_max)\n",
    "        numeros_aleatorios.append(numero_aleatorio)\n",
    "    return numeros_aleatorios\n",
    "\n",
    "# Entradas del usuario\n",
    "cantidad_numeros = int(input(\"Ingrese la cantidad de números aleatorios a generar: \"))\n",
    "rango_min = float(input(\"Ingrese el límite inferior del rango: \"))\n",
    "rango_max = float(input(\"Ingrese el límite superior del rango: \"))\n",
    "\n",
    "# Generar números aleatorios\n",
    "numeros_generados = generar_numeros_aleatorios(cantidad_numeros, rango_min, rango_max)\n",
    "\n",
    "# Mostrar resultados\n",
    "print(f\"{cantidad_numeros} números aleatorios en el rango [{rango_min}, {rango_max}]:\")\n",
    "print(numeros_generados)"
   ]
  },
  {
   "cell_type": "code",
   "execution_count": 14,
   "metadata": {},
   "outputs": [
    {
     "name": "stdout",
     "output_type": "stream",
     "text": [
      "El volumen del sólido seleccionado es: 200.0\n"
     ]
    }
   ],
   "source": [
    "#9.Realice un programa para el cálculo de volúmenes (Prisma, Pirámide, Cono truncado, Cilindro)\n",
    "#donde el usuario pueda seleccionar el sólido y los parámetros de cada volumen. \n",
    "import math\n",
    "\n",
    "# Funciones para calcular el volumen de cada sólido\n",
    "def volumen_prisma(base, altura):\n",
    "    return base * altura\n",
    "\n",
    "def volumen_piramide(base, altura):\n",
    "    return (1/3) * base * altura\n",
    "\n",
    "def volumen_cono_truncado(radio1, radio2, altura):\n",
    "    return (1/3) * math.pi * altura * (radio1**2 + radio1*radio2 + radio2**2)\n",
    "\n",
    "def volumen_cilindro(radio, altura):\n",
    "    return math.pi * radio**2 * altura\n",
    "\n",
    "# Diccionario que mapea las opciones del usuario a las funciones de cálculo de volumen\n",
    "opciones = {\n",
    "    1: volumen_prisma,\n",
    "    2: volumen_piramide,\n",
    "    3: volumen_cono_truncado,\n",
    "    4: volumen_cilindro\n",
    "}\n",
    "\n",
    "# Función principal\n",
    "def main():\n",
    "    opcion = int(input(\"Seleccione el sólido para calcular su volumen:\\n1. Prisma\\n2. Pirámide\\n3. Cono Truncado\\n4. Cilindro\\n\"))\n",
    "\n",
    "    if opcion not in opciones:\n",
    "        print(\"Opción no válida.\")\n",
    "        return\n",
    "\n",
    "    parametros = []\n",
    "\n",
    "    # Solicitar los parámetros necesarios para el cálculo del volumen\n",
    "    for parametro in opciones[opcion].__code__.co_varnames:\n",
    "        if parametro != 'altura':\n",
    "            valor = float(input(f\"Ingrese la medida de {parametro}: \"))\n",
    "            parametros.append(valor)\n",
    "        else:\n",
    "            altura = float(input(\"Ingrese la altura: \"))\n",
    "            parametros.append(altura)\n",
    "\n",
    "    # Calcular el volumen y mostrar el resultado\n",
    "    volumen = opciones[opcion](*parametros)\n",
    "    print(\"El volumen del sólido seleccionado es:\", volumen)\n",
    "\n",
    "if __name__ == \"__main__\":\n",
    "    main()\n",
    "\n",
    "\n",
    "   \n",
    "        "
   ]
  },
  {
   "cell_type": "code",
   "execution_count": 15,
   "metadata": {},
   "outputs": [
    {
     "name": "stdout",
     "output_type": "stream",
     "text": [
      "Seleccione el tipo de robot:\n",
      "1. Robot Cilíndrico\n",
      "2. Robot Cartesiano\n",
      "3. Robot Esférico\n",
      "\n",
      "Robot Cilíndrico\n",
      "Número de articulaciones: 3\n"
     ]
    }
   ],
   "source": [
    "#10.Realice un programa que le permita al usuario escoger entre robot Cilíndrico, Cartesiano y esférico,\n",
    "#donde como respuesta a la selección conteste con el tipo y número de articulaciones que posee.\n",
    "def main():\n",
    "    print(\"Seleccione el tipo de robot:\")\n",
    "    print(\"1. Robot Cilíndrico\")\n",
    "    print(\"2. Robot Cartesiano\")\n",
    "    print(\"3. Robot Esférico\")\n",
    "\n",
    "    opcion = int(input(\"Ingrese el número de opción: \"))\n",
    "\n",
    "    if opcion == 1:\n",
    "        print(\"\\nRobot Cilíndrico\")\n",
    "        print(\"Número de articulaciones: 3\")\n",
    "    elif opcion == 2:\n",
    "        print(\"\\nRobot Cartesiano\")\n",
    "        print(\"Número de articulaciones: 3\")\n",
    "    elif opcion == 3:\n",
    "        print(\"\\nRobot Esférico\")\n",
    "        print(\"Número de articulaciones: 3\")\n",
    "    else:\n",
    "        print(\"Opción inválida. Por favor, seleccione una opción válida.\")\n",
    "\n",
    "if __name__ == \"__main__\":\n",
    "    main()"
   ]
  },
  {
   "cell_type": "code",
   "execution_count": 16,
   "metadata": {},
   "outputs": [
    {
     "name": "stdout",
     "output_type": "stream",
     "text": [
      "¡Hasta luego!\n"
     ]
    }
   ],
   "source": [
    "#11.Escribir un programa que realice la pregunta ¿Desea continuar Si/No? y que no deje de hacerla\n",
    "#hasta que el usuario teclee No.\n",
    "def continuar():\n",
    "    while True:\n",
    "        respuesta = input(\"¿Desea continuar? (Si/No): \").strip().lower()\n",
    "        if respuesta == 'no':\n",
    "            print(\"ok\")\n",
    "            break\n",
    "        elif respuesta != 'si':\n",
    "            print(\"si o no\")\n",
    "\n",
    "continuar()"
   ]
  },
  {
   "cell_type": "code",
   "execution_count": null,
   "metadata": {},
   "outputs": [],
   "source": [
    "#12.Realice un programa que grafique el comportamiento de un sensor PT100 desde -200°C a 200°C\n",
    "\n",
    "import numpy as np\n",
    "import matplotlib.pyplot as plt\n",
    "\n",
    "# Función para calcular la resistencia de la PT100\n",
    "def resistencia_pt100(temperatura):\n",
    "    # Coeficientes de la ecuación de Callendar-Van Dusen\n",
    "    a = 3.9083e-3\n",
    "    b = -5.775e-7\n",
    "    R0 = 100.0  # Resistencia a 0°C\n",
    "\n",
    "    return R0 * (1 + a * temperatura + b * temperatura**2)\n",
    "\n",
    "# Rango de temperaturas de -200°C a 200°C\n",
    "temperaturas = np.linspace(-200, 200, 1000)\n",
    "\n",
    "# Calcular las resistencias correspondientes\n",
    "resistencias = resistencia_pt100(temperaturas)\n",
    "\n",
    "# Graficar\n",
    "plt.figure(figsize=(10, 6))\n",
    "plt.plot(temperaturas, resistencias, color='blue')\n",
    "plt.title('Comportamiento de un sensor PT100')\n",
    "plt.xlabel('Temperatura (°C)')\n",
    "plt.ylabel('Resistencia (Ohm)')\n",
    "plt.grid(True)\n",
    "plt.show()"
   ]
  },
  {
   "cell_type": "code",
   "execution_count": 17,
   "metadata": {},
   "outputs": [
    {
     "ename": "ModuleNotFoundError",
     "evalue": "No module named 'matplotlib'",
     "output_type": "error",
     "traceback": [
      "\u001b[0;31m---------------------------------------------------------------------------\u001b[0m",
      "\u001b[0;31mModuleNotFoundError\u001b[0m                       Traceback (most recent call last)",
      "\u001b[0;32m<ipython-input-17-c5dd835dfbb8>\u001b[0m in \u001b[0;36m<module>\u001b[0;34m\u001b[0m\n\u001b[1;32m      3\u001b[0m \u001b[0;31m#de sistema es: subamortiguado, criticamente amortiguado y sobreamortiguado.\u001b[0m\u001b[0;34m\u001b[0m\u001b[0;34m\u001b[0m\u001b[0;34m\u001b[0m\u001b[0m\n\u001b[1;32m      4\u001b[0m \u001b[0;32mimport\u001b[0m \u001b[0mnumpy\u001b[0m \u001b[0;32mas\u001b[0m \u001b[0mnp\u001b[0m\u001b[0;34m\u001b[0m\u001b[0;34m\u001b[0m\u001b[0m\n\u001b[0;32m----> 5\u001b[0;31m \u001b[0;32mimport\u001b[0m \u001b[0mmatplotlib\u001b[0m\u001b[0;34m.\u001b[0m\u001b[0mpyplot\u001b[0m \u001b[0;32mas\u001b[0m \u001b[0mplt\u001b[0m\u001b[0;34m\u001b[0m\u001b[0;34m\u001b[0m\u001b[0m\n\u001b[0m\u001b[1;32m      6\u001b[0m \u001b[0;34m\u001b[0m\u001b[0m\n\u001b[1;32m      7\u001b[0m \u001b[0;31m# Coeficientes de la función de transferencia\u001b[0m\u001b[0;34m\u001b[0m\u001b[0;34m\u001b[0m\u001b[0;34m\u001b[0m\u001b[0m\n",
      "\u001b[0;31mModuleNotFoundError\u001b[0m: No module named 'matplotlib'"
     ]
    }
   ],
   "source": [
    "#.13 Realice un programa que le permita al usuario ingresar los coeficientes de una función de\n",
    "#transferencia de segundo orden y graficar su comportamiento, además se debe mostrar que tipo\n",
    "#de sistema es: subamortiguado, criticamente amortiguado y sobreamortiguado.\n",
    "import numpy as np\n",
    "import matplotlib.pyplot as plt\n",
    "\n",
    "# Coeficientes de la función de transferencia\n",
    "K = float(input(\"Ingrese la ganancia del sistema (K): \"))\n",
    "zeta = float(input(\"Ingrese el factor de amortiguamiento (zeta): \"))\n",
    "omega_n = float(input(\"Ingrese la frecuencia natural no amortiguada (omega_n): \"))\n",
    "\n",
    "# Graficar la respuesta en frecuencia\n",
    "s = np.linspace(0, 10, 1000)\n",
    "H = K / (s**2 + 2 * zeta * omega_n * s + omega_n**2)\n",
    "plt.plot(s, np.abs(H))\n",
    "plt.title('Respuesta en Frecuencia')\n",
    "plt.xlabel('Frecuencia Angular (s)')\n",
    "plt.ylabel('|H(s)|')\n",
    "plt.grid(True)\n",
    "plt.show()\n",
    "\n",
    "# Determinar y mostrar el tipo de sistema\n",
    "if zeta < 1:\n",
    "    print(\"El sistema es subamortiguado.\")\n",
    "elif zeta == 1:\n",
    "    print(\"El sistema es críticamente amortiguado.\")\n",
    "else:\n",
    "    print(\"El sistema es sobreamortiguado.\")"
   ]
  }
 ],
 "metadata": {
  "kernelspec": {
   "display_name": "Python 3",
   "language": "python",
   "name": "python3"
  },
  "language_info": {
   "codemirror_mode": {
    "name": "ipython",
    "version": 3
   },
   "file_extension": ".py",
   "mimetype": "text/x-python",
   "name": "python",
   "nbconvert_exporter": "python",
   "pygments_lexer": "ipython3",
   "version": "3.9.2"
  }
 },
 "nbformat": 4,
 "nbformat_minor": 2
}
